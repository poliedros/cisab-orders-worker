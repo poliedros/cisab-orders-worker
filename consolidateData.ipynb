{
 "cells": [
  {
   "cell_type": "code",
   "execution_count": 1,
   "metadata": {},
   "outputs": [],
   "source": [
    "# -*- coding: utf-8 -*-\n",
    "\n",
    "import os\n",
    "import json\n",
    "import pika\n",
    "import logging\n",
    "import pymongo\n",
    "import pandas as pd\n",
    "from datetime import datetime\n",
    "from dotenv import load_dotenv\n",
    "from azure.storage.blob import BlobClient"
   ]
  },
  {
   "cell_type": "code",
   "execution_count": 2,
   "metadata": {},
   "outputs": [
    {
     "data": {
      "text/plain": [
       "True"
      ]
     },
     "execution_count": 2,
     "metadata": {},
     "output_type": "execute_result"
    }
   ],
   "source": [
    "logging.basicConfig(\n",
    "    format='%(asctime)s %(levelname)s %(message)s',\n",
    "    level=logging.INFO,\n",
    "    datefmt='%Y-%m-%d %H:%M:%S'\n",
    ")\n",
    "\n",
    "load_dotenv()"
   ]
  },
  {
   "cell_type": "code",
   "execution_count": 3,
   "metadata": {},
   "outputs": [],
   "source": [
    "# Realizando conexão com o banco\n",
    "if os.getenv(\"MONGO_CONN_STR\") is None:\n",
    "    logging.error(\"Unable to get environment variables.\")\n",
    "    # exit()\n",
    "\n",
    "client = pymongo.MongoClient(\n",
    "    os.getenv(\"MONGO_CONN_STR\"), serverSelectionTimeoutMS=5000)\n",
    "\n",
    "try:\n",
    "    client.server_info()\n",
    "except Exception:\n",
    "    logging.error(\"Unable to connect to Mongo server.\")\n",
    "    # exit()\n",
    "\n",
    "database = client.get_database()"
   ]
  },
  {
   "cell_type": "code",
   "execution_count": 4,
   "metadata": {},
   "outputs": [],
   "source": [
    "# Extraindo coleções\n",
    "cart_collection = database.get_collection(\"carts\")\n",
    "demand_collection = database.get_collection(\"demands\")\n"
   ]
  },
  {
   "cell_type": "code",
   "execution_count": 5,
   "metadata": {},
   "outputs": [],
   "source": [
    "# Extraindo demandas que fecham na data de hoje\n",
    "today = datetime.today()\n",
    "tomorrow = today.replace(day=today.day + 1, hour=0,\n",
    "                         minute=0, second=0, microsecond=0)\n",
    "today = today.replace(hour=0, minute=0, second=0, microsecond=0)\n",
    "\n",
    "demands = demand_collection.find({\n",
    "    \"end_date\": {\"$gte\": today, \"$lt\": tomorrow}\n",
    "})\n",
    "\n",
    "closed_demands = [str(demand[\"_id\"]) for demand in demands]\n",
    "if len(closed_demands) == 0:\n",
    "    logging.info(\"There's no demand closing today!\")\n",
    "    # exit()"
   ]
  },
  {
   "cell_type": "code",
   "execution_count": 6,
   "metadata": {},
   "outputs": [],
   "source": [
    "# Extraindo carrinhos fechados das demandas fechadas\n",
    "carts = cart_collection.find({\n",
    "    \"state\" : { \"$eq\" : \"closed\"},\n",
    "    \"demand_id\": { \"$in\": closed_demands}\n",
    "  })"
   ]
  },
  {
   "cell_type": "code",
   "execution_count": 7,
   "metadata": {},
   "outputs": [
    {
     "name": "stderr",
     "output_type": "stream",
     "text": [
      "2023-05-03 12:25:10 INFO 3 orders for today.\n"
     ]
    }
   ],
   "source": [
    "# Transformando as coleções em dataframes\n",
    "df_carts = pd.DataFrame(list(carts))\n",
    "\n",
    "logging.info(str(len(df_carts)) + \" orders for today.\")"
   ]
  },
  {
   "cell_type": "code",
   "execution_count": 8,
   "metadata": {},
   "outputs": [],
   "source": [
    "# Pré-processamento\n",
    "df_carts = df_carts.rename(columns={'_id': 'cart_id'})"
   ]
  },
  {
   "cell_type": "code",
   "execution_count": 9,
   "metadata": {},
   "outputs": [],
   "source": [
    "# Expandindo a coluna de produtos\n",
    "df_exploded = df_carts.explode(column=\"products\")"
   ]
  },
  {
   "cell_type": "code",
   "execution_count": 10,
   "metadata": {},
   "outputs": [],
   "source": [
    "# Extraindo atributos dos produtos e colocando-os em outras colunas\n",
    "def getAtrr(row, atrribute):\n",
    "  rowDict = dict(row)\n",
    "  return rowDict[atrribute]\n",
    "\n",
    "df_exploded[\"product_id\"] = df_exploded[\"products\"].apply(lambda x: getAtrr(x, \"_id\"))\n",
    "df_exploded[\"quantity\"] = df_exploded[\"products\"].apply(lambda x: getAtrr(x, \"quantity\"))"
   ]
  },
  {
   "cell_type": "code",
   "execution_count": 11,
   "metadata": {},
   "outputs": [],
   "source": [
    "# Montando o nome final do produto e adicionando-o na coluna descrição\n",
    "def getProductDesc(row):\n",
    "  measurementsList = list(row[\"products\"][\"measurements\"])\n",
    "  newList = []\n",
    "  for m in measurementsList:\n",
    "    newList.append(\" \".join(list(m.values())))\n",
    "\n",
    "  normsList = list(row[\"products\"][\"norms\"])\n",
    "  \n",
    "  return row[\"products\"][\"name\"] + \" \" + \" \".join(newList) + \" \" + \" \".join(normsList)\n",
    "  \n",
    "df_exploded[\"description\"] = df_exploded.apply(lambda x: getProductDesc(x), axis=1)"
   ]
  },
  {
   "cell_type": "code",
   "execution_count": 12,
   "metadata": {},
   "outputs": [],
   "source": [
    "# Exportando o dataframe final para planilha em Excel na Azure\n",
    "def uploadToStorage(file_name):\n",
    "    try:\n",
    "        blob = BlobClient.from_connection_string(conn_str=os.getenv(\n",
    "            \"AZURE_CONN_STR\"), container_name=\"cisab-consolidados\", blob_name=file_name)\n",
    "    except:\n",
    "        logging.error(\"Unable to connect with Blob Storage.\")\n",
    "        # exit()\n",
    "\n",
    "    try:\n",
    "        with open(file_name, \"rb\") as data:\n",
    "            blob.upload_blob(data)\n",
    "    except:\n",
    "        logging.error(\"Unable to upload the file to Blob Storage.\")\n",
    "        # exit()"
   ]
  },
  {
   "cell_type": "code",
   "execution_count": 13,
   "metadata": {},
   "outputs": [],
   "source": [
    "# Enviando evento para o RabbitMQ mandar o email\n",
    "def createAndSendEvent(connection, file_name):\n",
    "    channel = connection.channel()\n",
    "\n",
    "    to = os.getenv(\"RABBITMQ_TO\")\n",
    "    event = {\n",
    "        \"pattern\": \"send_email\",\n",
    "        \"data\": {\n",
    "        \"message\": {\n",
    "            \"to\": to,\n",
    "            \"subject\": \"Consolidado de pedidos\",\n",
    "            \"body\": \"A demanda fechou e você pode baixar o consolidado de pedidos pelo link: <a href='\" + os.getenv(\"AZURE_BLOB_STORAGE\") + file_name + \"'>clique aqui</a>\"\n",
    "        }\n",
    "        }\n",
    "    }\n",
    "\n",
    "    channel.queue_declare(queue='notifier')\n",
    "    channel.basic_publish(exchange='',\n",
    "                        routing_key='notifier',\n",
    "                        body=json.dumps(event, ensure_ascii=False))\n",
    "\n",
    "    logging.info(f\"Email has been sent to {to}\")\n",
    "\n",
    "    channel.close()\n",
    "    \n",
    "def sendEmail(file_name):\n",
    "    try:\n",
    "        credentials = pika.PlainCredentials(os.getenv(\"RABBITMQ_USER\"),\n",
    "                                            os.getenv(\"RABBITMQ_PASSWORD\"))\n",
    "        connection = pika.BlockingConnection(\n",
    "            pika.ConnectionParameters(os.getenv(\"RABBITMQ_CONN_STR\"),\n",
    "                                    int(os.getenv(\"RABBITMQ_PORT\")),\n",
    "                                    '/',\n",
    "                                    credentials))\n",
    "        \n",
    "        createAndSendEvent(connection, file_name)\n",
    "\n",
    "    except:\n",
    "        logging.error(\"Unable to connect with RabbitMQ.\")\n",
    "        # exit()"
   ]
  },
  {
   "cell_type": "code",
   "execution_count": 14,
   "metadata": {},
   "outputs": [],
   "source": [
    "# Gerando a planilha a partir do dataframe final\n",
    "def generateSheet(df, demand_id):\n",
    "    df_demand = df[df.demand_id == demand_id].reset_index()\n",
    "    \n",
    "    if(len(df_demand) > 0):\n",
    "        df_pivot = df_demand.pivot_table(index=\"Produto\", values=\"Quantidade\", columns=\"Município / Autarquia\")\n",
    "        df_pivot[\"Total\"] = df_pivot.sum(axis=1)\n",
    "        df_pivot = df_pivot.sort_values(by=\"Produto\")\n",
    "\n",
    "        format_data = \"%Y-%m-%d %H-%M-%S\"\n",
    "        file_name = datetime.strftime(datetime.today(), format_data) + \\\n",
    "            \" \" + df_demand.loc[0, \"demand_name\"] + \".xlsx\"\n",
    "        df_pivot.to_excel(file_name)\n",
    "\n",
    "        uploadToStorage(file_name)\n",
    "        sendEmail(file_name)\n",
    "    else:\n",
    "        logging.warning(\"There weren't any orders for \" + demand_id)"
   ]
  },
  {
   "cell_type": "code",
   "execution_count": 15,
   "metadata": {},
   "outputs": [],
   "source": [
    "# Pós-processamento\n",
    "newNames = {\"county_name\": \"Município / Autarquia\", \"description\": \"Produto\", \"quantity\": \"Quantidade\"}\n",
    "df = df_exploded.rename(columns=newNames)"
   ]
  },
  {
   "cell_type": "code",
   "execution_count": 16,
   "metadata": {},
   "outputs": [
    {
     "name": "stderr",
     "output_type": "stream",
     "text": [
      "2023-05-03 12:25:11 INFO Request URL: 'https://catalogv2.blob.core.windows.net/cisab-consolidados/2023-05-03%2012-25-10%20El%C3%A9trico%202023.xlsx'\n",
      "Request method: 'PUT'\n",
      "Request headers:\n",
      "    'Content-Length': '5054'\n",
      "    'x-ms-blob-type': 'REDACTED'\n",
      "    'If-None-Match': '*'\n",
      "    'x-ms-version': 'REDACTED'\n",
      "    'Content-Type': 'application/octet-stream'\n",
      "    'Accept': 'application/xml'\n",
      "    'User-Agent': 'azsdk-python-storage-blob/12.14.1 Python/3.10.5 (Windows-10-10.0.19044-SP0)'\n",
      "    'x-ms-date': 'REDACTED'\n",
      "    'x-ms-client-request-id': 'b1bfcc43-e9c6-11ed-8c7e-3052cb8340ee'\n",
      "    'Authorization': 'REDACTED'\n",
      "A body is sent with the request\n",
      "2023-05-03 12:25:11 INFO Response status: 201\n",
      "Response headers:\n",
      "    'Content-Length': '0'\n",
      "    'Content-MD5': 'REDACTED'\n",
      "    'Last-Modified': 'Wed, 03 May 2023 15:25:10 GMT'\n",
      "    'ETag': '\"0x8DB4BEA958E6CAE\"'\n",
      "    'Server': 'Windows-Azure-Blob/1.0 Microsoft-HTTPAPI/2.0'\n",
      "    'x-ms-request-id': 'ef8a28a5-e01e-0000-3bd3-7d5baa000000'\n",
      "    'x-ms-client-request-id': 'b1bfcc43-e9c6-11ed-8c7e-3052cb8340ee'\n",
      "    'x-ms-version': 'REDACTED'\n",
      "    'x-ms-content-crc64': 'REDACTED'\n",
      "    'x-ms-request-server-encrypted': 'REDACTED'\n",
      "    'Date': 'Wed, 03 May 2023 15:25:10 GMT'\n",
      "2023-05-03 12:25:11 INFO Pika version 1.3.1 connecting to ('192.168.3.110', 5672)\n",
      "2023-05-03 12:25:11 INFO Socket connected: <socket.socket fd=2828, family=AddressFamily.AF_INET, type=SocketKind.SOCK_STREAM, proto=6, laddr=('192.168.3.110', 62713), raddr=('192.168.3.110', 5672)>\n",
      "2023-05-03 12:25:11 INFO Streaming transport linked up: (<pika.adapters.utils.io_services_utils._AsyncPlaintextTransport object at 0x0000018CB2257C10>, _StreamingProtocolShim: <SelectConnection PROTOCOL transport=<pika.adapters.utils.io_services_utils._AsyncPlaintextTransport object at 0x0000018CB2257C10> params=<ConnectionParameters host=host.docker.internal port=5672 virtual_host=/ ssl=False>>).\n",
      "2023-05-03 12:25:11 INFO AMQPConnector - reporting success: <SelectConnection OPEN transport=<pika.adapters.utils.io_services_utils._AsyncPlaintextTransport object at 0x0000018CB2257C10> params=<ConnectionParameters host=host.docker.internal port=5672 virtual_host=/ ssl=False>>\n",
      "2023-05-03 12:25:11 INFO AMQPConnectionWorkflow - reporting success: <SelectConnection OPEN transport=<pika.adapters.utils.io_services_utils._AsyncPlaintextTransport object at 0x0000018CB2257C10> params=<ConnectionParameters host=host.docker.internal port=5672 virtual_host=/ ssl=False>>\n",
      "2023-05-03 12:25:11 INFO Connection workflow succeeded: <SelectConnection OPEN transport=<pika.adapters.utils.io_services_utils._AsyncPlaintextTransport object at 0x0000018CB2257C10> params=<ConnectionParameters host=host.docker.internal port=5672 virtual_host=/ ssl=False>>\n",
      "2023-05-03 12:25:11 INFO Created channel=1\n",
      "2023-05-03 12:25:11 INFO Email has been sent to dani.sg14jb@gmail.com\n",
      "2023-05-03 12:25:11 INFO Closing channel (0): 'Normal shutdown' on <Channel number=1 OPEN conn=<SelectConnection OPEN transport=<pika.adapters.utils.io_services_utils._AsyncPlaintextTransport object at 0x0000018CB2257C10> params=<ConnectionParameters host=host.docker.internal port=5672 virtual_host=/ ssl=False>>>\n",
      "2023-05-03 12:25:11 INFO Received <Channel.CloseOk> on <Channel number=1 CLOSING conn=<SelectConnection OPEN transport=<pika.adapters.utils.io_services_utils._AsyncPlaintextTransport object at 0x0000018CB2257C10> params=<ConnectionParameters host=host.docker.internal port=5672 virtual_host=/ ssl=False>>>\n",
      "2023-05-03 12:25:11 INFO Request URL: 'https://catalogv2.blob.core.windows.net/cisab-consolidados/2023-05-03%2012-25-11%20Love.xlsx'\n",
      "Request method: 'PUT'\n",
      "Request headers:\n",
      "    'Content-Length': '5027'\n",
      "    'x-ms-blob-type': 'REDACTED'\n",
      "    'If-None-Match': '*'\n",
      "    'x-ms-version': 'REDACTED'\n",
      "    'Content-Type': 'application/octet-stream'\n",
      "    'Accept': 'application/xml'\n",
      "    'User-Agent': 'azsdk-python-storage-blob/12.14.1 Python/3.10.5 (Windows-10-10.0.19044-SP0)'\n",
      "    'x-ms-date': 'REDACTED'\n",
      "    'x-ms-client-request-id': 'b1eaceb8-e9c6-11ed-885f-3052cb8340ee'\n",
      "    'Authorization': 'REDACTED'\n",
      "A body is sent with the request\n",
      "2023-05-03 12:25:11 INFO Response status: 201\n",
      "Response headers:\n",
      "    'Content-Length': '0'\n",
      "    'Content-MD5': 'REDACTED'\n",
      "    'Last-Modified': 'Wed, 03 May 2023 15:25:10 GMT'\n",
      "    'ETag': '\"0x8DB4BEA95BA7F45\"'\n",
      "    'Server': 'Windows-Azure-Blob/1.0 Microsoft-HTTPAPI/2.0'\n",
      "    'x-ms-request-id': '04e564b1-901e-0047-17d3-7d30f1000000'\n",
      "    'x-ms-client-request-id': 'b1eaceb8-e9c6-11ed-885f-3052cb8340ee'\n",
      "    'x-ms-version': 'REDACTED'\n",
      "    'x-ms-content-crc64': 'REDACTED'\n",
      "    'x-ms-request-server-encrypted': 'REDACTED'\n",
      "    'Date': 'Wed, 03 May 2023 15:25:10 GMT'\n",
      "2023-05-03 12:25:11 INFO Pika version 1.3.1 connecting to ('192.168.3.110', 5672)\n",
      "2023-05-03 12:25:11 INFO Socket connected: <socket.socket fd=2732, family=AddressFamily.AF_INET, type=SocketKind.SOCK_STREAM, proto=6, laddr=('192.168.3.110', 62717), raddr=('192.168.3.110', 5672)>\n",
      "2023-05-03 12:25:11 INFO Streaming transport linked up: (<pika.adapters.utils.io_services_utils._AsyncPlaintextTransport object at 0x0000018CB2257070>, _StreamingProtocolShim: <SelectConnection PROTOCOL transport=<pika.adapters.utils.io_services_utils._AsyncPlaintextTransport object at 0x0000018CB2257070> params=<ConnectionParameters host=host.docker.internal port=5672 virtual_host=/ ssl=False>>).\n",
      "2023-05-03 12:25:11 INFO AMQPConnector - reporting success: <SelectConnection OPEN transport=<pika.adapters.utils.io_services_utils._AsyncPlaintextTransport object at 0x0000018CB2257070> params=<ConnectionParameters host=host.docker.internal port=5672 virtual_host=/ ssl=False>>\n",
      "2023-05-03 12:25:11 INFO AMQPConnectionWorkflow - reporting success: <SelectConnection OPEN transport=<pika.adapters.utils.io_services_utils._AsyncPlaintextTransport object at 0x0000018CB2257070> params=<ConnectionParameters host=host.docker.internal port=5672 virtual_host=/ ssl=False>>\n",
      "2023-05-03 12:25:11 INFO Connection workflow succeeded: <SelectConnection OPEN transport=<pika.adapters.utils.io_services_utils._AsyncPlaintextTransport object at 0x0000018CB2257070> params=<ConnectionParameters host=host.docker.internal port=5672 virtual_host=/ ssl=False>>\n",
      "2023-05-03 12:25:11 INFO Created channel=1\n",
      "2023-05-03 12:25:11 INFO Email has been sent to dani.sg14jb@gmail.com\n",
      "2023-05-03 12:25:11 INFO Closing channel (0): 'Normal shutdown' on <Channel number=1 OPEN conn=<SelectConnection OPEN transport=<pika.adapters.utils.io_services_utils._AsyncPlaintextTransport object at 0x0000018CB2257070> params=<ConnectionParameters host=host.docker.internal port=5672 virtual_host=/ ssl=False>>>\n",
      "2023-05-03 12:25:11 INFO Received <Channel.CloseOk> on <Channel number=1 CLOSING conn=<SelectConnection OPEN transport=<pika.adapters.utils.io_services_utils._AsyncPlaintextTransport object at 0x0000018CB2257070> params=<ConnectionParameters host=host.docker.internal port=5672 virtual_host=/ ssl=False>>>\n"
     ]
    }
   ],
   "source": [
    "# Executando processos finais para cada demanda fechada no dia\n",
    "for demand in closed_demands:\n",
    "    generateSheet(df, demand)"
   ]
  },
  {
   "cell_type": "code",
   "execution_count": null,
   "metadata": {},
   "outputs": [],
   "source": []
  }
 ],
 "metadata": {
  "kernelspec": {
   "display_name": "Python 3",
   "language": "python",
   "name": "python3"
  },
  "language_info": {
   "codemirror_mode": {
    "name": "ipython",
    "version": 3
   },
   "file_extension": ".py",
   "mimetype": "text/x-python",
   "name": "python",
   "nbconvert_exporter": "python",
   "pygments_lexer": "ipython3",
   "version": "3.10.5"
  },
  "orig_nbformat": 4,
  "vscode": {
   "interpreter": {
    "hash": "369f2c481f4da34e4445cda3fffd2e751bd1c4d706f27375911949ba6bb62e1c"
   }
  }
 },
 "nbformat": 4,
 "nbformat_minor": 2
}
