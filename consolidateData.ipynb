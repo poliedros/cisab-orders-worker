{
 "cells": [
  {
   "cell_type": "code",
   "execution_count": 25,
   "metadata": {},
   "outputs": [],
   "source": [
    "# -*- coding: utf-8 -*-\n",
    "\n",
    "import os\n",
    "import json\n",
    "import pika\n",
    "import logging\n",
    "import pymongo\n",
    "import pandas as pd\n",
    "from itertools import chain\n",
    "from datetime import datetime, timedelta\n",
    "from dotenv import load_dotenv\n",
    "from azure.storage.blob import BlobClient\n",
    "from reportlab.lib.pagesizes import letter\n",
    "from reportlab.platypus import SimpleDocTemplate, Table, TableStyle, Paragraph\n",
    "from reportlab.lib.enums import TA_CENTER\n",
    "from reportlab.lib.styles import getSampleStyleSheet, ParagraphStyle"
   ]
  },
  {
   "cell_type": "code",
   "execution_count": 26,
   "metadata": {},
   "outputs": [
    {
     "data": {
      "text/plain": [
       "True"
      ]
     },
     "execution_count": 26,
     "metadata": {},
     "output_type": "execute_result"
    }
   ],
   "source": [
    "logging.basicConfig(\n",
    "    format='%(asctime)s %(levelname)s %(message)s',\n",
    "    level=logging.INFO,\n",
    "    datefmt='%Y-%m-%d %H:%M:%S'\n",
    ")\n",
    "\n",
    "load_dotenv()"
   ]
  },
  {
   "cell_type": "code",
   "execution_count": 27,
   "metadata": {},
   "outputs": [],
   "source": [
    "# Realizando conexão com o banco\n",
    "if os.getenv(\"MONGO_CONN_STR\") is None:\n",
    "    logging.error(\"Unable to get environment variables.\")\n",
    "    # exit()\n",
    "\n",
    "client = pymongo.MongoClient(\n",
    "    os.getenv(\"MONGO_CONN_STR\"), serverSelectionTimeoutMS=5000)\n",
    "\n",
    "try:\n",
    "    client.server_info()\n",
    "except Exception:\n",
    "    logging.error(\"Unable to connect to Mongo server.\")\n",
    "    # exit()\n",
    "\n",
    "database = client.get_database()"
   ]
  },
  {
   "cell_type": "code",
   "execution_count": 28,
   "metadata": {},
   "outputs": [],
   "source": [
    "# Extraindo coleções\n",
    "cart_collection = database.get_collection(\"carts\")\n",
    "demand_collection = database.get_collection(\"demands\")\n"
   ]
  },
  {
   "cell_type": "code",
   "execution_count": 29,
   "metadata": {},
   "outputs": [
    {
     "data": {
      "text/html": [
       "<div>\n",
       "<style scoped>\n",
       "    .dataframe tbody tr th:only-of-type {\n",
       "        vertical-align: middle;\n",
       "    }\n",
       "\n",
       "    .dataframe tbody tr th {\n",
       "        vertical-align: top;\n",
       "    }\n",
       "\n",
       "    .dataframe thead th {\n",
       "        text-align: right;\n",
       "    }\n",
       "</style>\n",
       "<table border=\"1\" class=\"dataframe\">\n",
       "  <thead>\n",
       "    <tr style=\"text-align: right;\">\n",
       "      <th></th>\n",
       "      <th>_id</th>\n",
       "      <th>name</th>\n",
       "      <th>start_date</th>\n",
       "      <th>end_date</th>\n",
       "      <th>product_ids</th>\n",
       "      <th>state</th>\n",
       "      <th>created_on</th>\n",
       "    </tr>\n",
       "  </thead>\n",
       "  <tbody>\n",
       "    <tr>\n",
       "      <th>0</th>\n",
       "      <td>66302e7e763d3d7a42c1645b</td>\n",
       "      <td>Demanda teste</td>\n",
       "      <td>2024-04-29 00:00:00</td>\n",
       "      <td>2024-04-30 00:00:00</td>\n",
       "      <td>[66302d85763d3d7a42c1643b]</td>\n",
       "      <td>DRAFT</td>\n",
       "      <td>2024-04-29 23:34:22.723</td>\n",
       "    </tr>\n",
       "    <tr>\n",
       "      <th>1</th>\n",
       "      <td>66302ed5763d3d7a42c16476</td>\n",
       "      <td>Demanda teste 2</td>\n",
       "      <td>2024-05-02 00:00:00</td>\n",
       "      <td>2024-05-12 00:00:00</td>\n",
       "      <td>[]</td>\n",
       "      <td>DRAFT</td>\n",
       "      <td>2024-04-29 23:35:49.405</td>\n",
       "    </tr>\n",
       "    <tr>\n",
       "      <th>2</th>\n",
       "      <td>6634eec3763d3d7a42c1681e</td>\n",
       "      <td>Teste hidráulico</td>\n",
       "      <td>2024-05-03 00:00:00</td>\n",
       "      <td>2024-05-04 00:00:00</td>\n",
       "      <td>[6634ee42763d3d7a42c1680f]</td>\n",
       "      <td>DRAFT</td>\n",
       "      <td>2024-05-03 14:03:47.272</td>\n",
       "    </tr>\n",
       "    <tr>\n",
       "      <th>3</th>\n",
       "      <td>63c16b2ed2ebd1993366d538</td>\n",
       "      <td>demanda 01-2</td>\n",
       "      <td>2023-01-01 03:00:00</td>\n",
       "      <td>2025-01-01 03:00:00</td>\n",
       "      <td>[]</td>\n",
       "      <td>NaN</td>\n",
       "      <td>NaT</td>\n",
       "    </tr>\n",
       "    <tr>\n",
       "      <th>4</th>\n",
       "      <td>66364835763d3d7a42c169a4</td>\n",
       "      <td>teste de data de abertura</td>\n",
       "      <td>2024-05-02 00:00:00</td>\n",
       "      <td>2024-05-05 00:00:00</td>\n",
       "      <td>[66302d85763d3d7a42c1643b, 66344c93763d3d7a42c...</td>\n",
       "      <td>DRAFT</td>\n",
       "      <td>2024-05-04 14:37:41.832</td>\n",
       "    </tr>\n",
       "  </tbody>\n",
       "</table>\n",
       "</div>"
      ],
      "text/plain": [
       "                        _id                       name          start_date  \\\n",
       "0  66302e7e763d3d7a42c1645b              Demanda teste 2024-04-29 00:00:00   \n",
       "1  66302ed5763d3d7a42c16476            Demanda teste 2 2024-05-02 00:00:00   \n",
       "2  6634eec3763d3d7a42c1681e           Teste hidráulico 2024-05-03 00:00:00   \n",
       "3  63c16b2ed2ebd1993366d538               demanda 01-2 2023-01-01 03:00:00   \n",
       "4  66364835763d3d7a42c169a4  teste de data de abertura 2024-05-02 00:00:00   \n",
       "\n",
       "             end_date                                        product_ids  \\\n",
       "0 2024-04-30 00:00:00                         [66302d85763d3d7a42c1643b]   \n",
       "1 2024-05-12 00:00:00                                                 []   \n",
       "2 2024-05-04 00:00:00                         [6634ee42763d3d7a42c1680f]   \n",
       "3 2025-01-01 03:00:00                                                 []   \n",
       "4 2024-05-05 00:00:00  [66302d85763d3d7a42c1643b, 66344c93763d3d7a42c...   \n",
       "\n",
       "   state              created_on  \n",
       "0  DRAFT 2024-04-29 23:34:22.723  \n",
       "1  DRAFT 2024-04-29 23:35:49.405  \n",
       "2  DRAFT 2024-05-03 14:03:47.272  \n",
       "3    NaN                     NaT  \n",
       "4  DRAFT 2024-05-04 14:37:41.832  "
      ]
     },
     "execution_count": 29,
     "metadata": {},
     "output_type": "execute_result"
    }
   ],
   "source": [
    "pd.DataFrame(list(demand_collection.find()))"
   ]
  },
  {
   "cell_type": "code",
   "execution_count": 30,
   "metadata": {},
   "outputs": [
    {
     "data": {
      "text/plain": [
       "Carrinhoooooooo                 2\n",
       "Demanda para Testar Carrinho    2\n",
       "Teste Entrega                   2\n",
       "Demanda teste                   2\n",
       "Qualquer                        2\n",
       "Carrinho Postman                1\n",
       "[Carlos] Demanda Teste          1\n",
       "Demanda Domingo                 1\n",
       "Elétrico 2023                   1\n",
       "Aaa                             1\n",
       "Difuso                          1\n",
       "Novo                            1\n",
       "Love                            1\n",
       "portugal                        1\n",
       "todos                           1\n",
       "TESTE CISAB                     1\n",
       "Name: demand_name, dtype: int64"
      ]
     },
     "execution_count": 30,
     "metadata": {},
     "output_type": "execute_result"
    }
   ],
   "source": [
    "pd.DataFrame(list(cart_collection.find())).demand_name.value_counts()"
   ]
  },
  {
   "cell_type": "code",
   "execution_count": 31,
   "metadata": {},
   "outputs": [],
   "source": [
    "# Extraindo demandas que fecham na data de hoje\n",
    "today = datetime.today()\n",
    "tomorrow = today + timedelta(days=1)\n",
    "\n",
    "today = today.replace(hour=0, minute=0, second=0, microsecond=0)\n",
    "tomorrow = tomorrow.replace(hour=0, minute=0, second=0, microsecond=0)\n",
    "\n",
    "demands = demand_collection.find({\n",
    "    \"end_date\": {\"$gte\": today, \"$lt\": tomorrow}\n",
    "})\n",
    "\n",
    "closed_demands = [str(demand[\"_id\"]) for demand in demands]\n",
    "if len(closed_demands) == 0:\n",
    "    logging.info(\"There's no demand closing today!\")\n",
    "    # exit()"
   ]
  },
  {
   "cell_type": "code",
   "execution_count": 32,
   "metadata": {},
   "outputs": [],
   "source": [
    "# Extraindo carrinhos fechados das demandas fechadas\n",
    "carts = cart_collection.find({\n",
    "    \"state\" : { \"$eq\" : \"closed\"},\n",
    "    \"demand_id\": { \"$in\": closed_demands}\n",
    "  })"
   ]
  },
  {
   "cell_type": "code",
   "execution_count": 33,
   "metadata": {},
   "outputs": [
    {
     "name": "stderr",
     "output_type": "stream",
     "text": [
      "2024-06-27 10:33:03 INFO 1 orders for today.\n"
     ]
    }
   ],
   "source": [
    "# Transformando as coleções em dataframes\n",
    "df_carts = pd.DataFrame(list(carts))\n",
    "\n",
    "logging.info(str(len(df_carts)) + \" orders for today.\")"
   ]
  },
  {
   "cell_type": "code",
   "execution_count": 34,
   "metadata": {},
   "outputs": [],
   "source": [
    "# Pré-processamento\n",
    "df_carts = df_carts.rename(columns={'_id': 'cart_id'})"
   ]
  },
  {
   "cell_type": "code",
   "execution_count": 35,
   "metadata": {},
   "outputs": [],
   "source": [
    "# Expandindo a coluna de produtos\n",
    "df_exploded = df_carts.explode(column=\"products\")"
   ]
  },
  {
   "cell_type": "code",
   "execution_count": 36,
   "metadata": {},
   "outputs": [],
   "source": [
    "# Extraindo atributos dos produtos e colocando-os em outras colunas\n",
    "def getAtrr(row, atrribute):\n",
    "  rowDict = dict(row)\n",
    "  return rowDict[atrribute]\n"
   ]
  },
  {
   "cell_type": "code",
   "execution_count": 37,
   "metadata": {},
   "outputs": [],
   "source": [
    "df_exploded[\"product_id\"] = df_exploded[\"products\"].apply(lambda x: getAtrr(x, \"_id\"))\n",
    "df_exploded[\"quantity\"] = df_exploded[\"products\"].apply(lambda x: getAtrr(x, \"quantity\"))"
   ]
  },
  {
   "cell_type": "code",
   "execution_count": 38,
   "metadata": {},
   "outputs": [],
   "source": [
    "# Montando o nome final do produto e adicionando-o na coluna descrição\n",
    "def getProductDesc(row):\n",
    "  measurementsList = list(row[\"products\"][\"measurements\"])\n",
    "  newList = []\n",
    "  for m in measurementsList:\n",
    "    newList.append(\" \".join(list(m.values())))\n",
    "\n",
    "  normsList = list(row[\"products\"][\"norms\"])\n",
    "  \n",
    "  return row[\"products\"][\"name\"] + \" \" + \" \".join(newList) + \" \" + \" \".join(normsList)"
   ]
  },
  {
   "cell_type": "code",
   "execution_count": 39,
   "metadata": {},
   "outputs": [],
   "source": [
    "df_exploded[\"description\"] = df_exploded.apply(lambda x: getProductDesc(x), axis=1)"
   ]
  },
  {
   "cell_type": "code",
   "execution_count": 40,
   "metadata": {},
   "outputs": [],
   "source": [
    "# Exportando o dataframe final para planilha em Excel na Azure\n",
    "def uploadToStorage(file_name):\n",
    "    try:\n",
    "        blob = BlobClient.from_connection_string(conn_str=os.getenv(\n",
    "            \"AZURE_CONN_STR\"), container_name=\"cisab-consolidados\", blob_name=file_name)\n",
    "    except:\n",
    "        logging.error(\"Unable to connect with Blob Storage.\")\n",
    "        # exit()\n",
    "\n",
    "    try:\n",
    "        with open(file_name, \"rb\") as data:\n",
    "            blob.upload_blob(data)\n",
    "    except:\n",
    "        logging.error(\"Unable to upload the file to Blob Storage.\")\n",
    "        # exit()"
   ]
  },
  {
   "cell_type": "code",
   "execution_count": 41,
   "metadata": {},
   "outputs": [],
   "source": [
    "# Enviando evento para o RabbitMQ mandar o email\n",
    "def createAndSendEvent(connection, spreadsheet, pdf):\n",
    "    channel = connection.channel()\n",
    "\n",
    "    to = os.getenv(\"RABBITMQ_TO\")\n",
    "    event = {\n",
    "        \"pattern\": \"send_email\",\n",
    "        \"data\": {\n",
    "        \"message\": {\n",
    "            \"to\": to,\n",
    "            \"subject\": \"Consolidado de pedidos\",\n",
    "            \"body\": \"A demanda fechou e você pode baixar o consolidado de pedidos pelo link: <a href='\" + os.getenv(\"AZURE_BLOB_STORAGE\") + spreadsheet + \"'>clique aqui</a>. Você também pode baixar o relatório de pedidos pelo link: <a href='\" + os.getenv(\"AZURE_BLOB_STORAGE\") + pdf + \"'>clique aqui</a>\"\n",
    "        }\n",
    "        }\n",
    "    }\n",
    "\n",
    "    channel.queue_declare(queue='notifier')\n",
    "    channel.basic_publish(exchange='',\n",
    "                        routing_key='notifier',\n",
    "                        body=json.dumps(event, ensure_ascii=False))\n",
    "\n",
    "    logging.info(f\"Email has been sent to {to}\")\n",
    "\n",
    "    channel.close()\n",
    "    \n",
    "def sendEmail(spreadsheet, pdf):\n",
    "    try:\n",
    "        credentials = pika.PlainCredentials(os.getenv(\"RABBITMQ_USER\"),\n",
    "                                            os.getenv(\"RABBITMQ_PASSWORD\"))\n",
    "        connection = pika.BlockingConnection(\n",
    "            pika.ConnectionParameters(os.getenv(\"RABBITMQ_CONN_STR\"),\n",
    "                                    int(os.getenv(\"RABBITMQ_PORT\")),\n",
    "                                    '/',\n",
    "                                    credentials))\n",
    "        \n",
    "        createAndSendEvent(connection, spreadsheet, pdf)\n",
    "\n",
    "    except:\n",
    "        logging.error(\"Unable to connect with RabbitMQ.\")\n",
    "        # exit()"
   ]
  },
  {
   "cell_type": "code",
   "execution_count": 42,
   "metadata": {},
   "outputs": [],
   "source": [
    "# Gerando relatório em PDF com os pedidos de cada município\n",
    "def createPDF(df, file_name):\n",
    "  county_prods = []\n",
    "  for county in df[\"Município / Autarquia\"].unique():\n",
    "    prods_list = df[df[\"Município / Autarquia\"] == county][[\"Produto\", \"Quantidade\"]].values.tolist()\n",
    "    prods_list.insert(0, [county])\n",
    "    county_prods.append(prods_list)\n",
    "\n",
    "  subheaders = []\n",
    "  unnested_list = list(chain(*county_prods))\n",
    "  for county in df[\"Município / Autarquia\"].unique():\n",
    "    subheaders.append(unnested_list.index([county]))\n",
    "\n",
    "  # Criando PDF\n",
    "  doc = SimpleDocTemplate(file_name, pagesize=letter)\n",
    "\n",
    "  # Colocando título\n",
    "  styles = getSampleStyleSheet()\n",
    "  styles.add(ParagraphStyle(name='centered', parent=styles['Heading3'], alignment=TA_CENTER))\n",
    "  title = Paragraph(\"Relatório de pedidos por município\", styles[\"Title\"])\n",
    "  subtitle = Paragraph(df.loc[0, 'demand_name'], styles[\"centered\"])\n",
    "\n",
    "  # Criando tabela\n",
    "  table = Table(unnested_list)\n",
    "\n",
    "  for i in subheaders:\n",
    "    # Adicionando estilo para os subtítulos (nome dos municípios)\n",
    "    table.setStyle(TableStyle([\n",
    "        (\"BACKGROUND\", (0, i), (-1, i), \"gray\"),\n",
    "        (\"TEXTCOLOR\", (0, i), (-1, i), \"white\"),\n",
    "    ]))\n",
    "\n",
    "  # Gerando PDF\n",
    "  doc.build([title, subtitle, table])"
   ]
  },
  {
   "cell_type": "code",
   "execution_count": 43,
   "metadata": {},
   "outputs": [],
   "source": [
    "# Gerando a planilha a partir do dataframe final\n",
    "def generateFiles(df, demand_id):\n",
    "    df_demand = df[df.demand_id == demand_id].reset_index()\n",
    "\n",
    "    if(len(df_demand) > 0):\n",
    "        df_pivot = df_demand.pivot_table(index=\"Produto\", values=\"Quantidade\", columns=\"Município / Autarquia\")\n",
    "        df_pivot[\"Total\"] = df_pivot.sum(axis=1)\n",
    "        df_pivot = df_pivot.sort_values(by=\"Produto\")\n",
    "\n",
    "        format_data = \"%Y-%m-%d %H-%M-%S\"\n",
    "        file_name = datetime.strftime(datetime.today(), format_data) + \\\n",
    "            \" \" + df_demand.loc[0, \"demand_name\"]\n",
    "        sheet_name = f\"{file_name}.xlsx\"\n",
    "        pdf_name = f\"{file_name}.pdf\"\n",
    "\n",
    "        df_pivot.to_excel(sheet_name)\n",
    "        createPDF(df_demand, pdf_name)\n",
    "\n",
    "        uploadToStorage(sheet_name)\n",
    "        uploadToStorage(pdf_name)\n",
    "        sendEmail(sheet_name, pdf_name)\n",
    "    else:\n",
    "        logging.warning(\"There weren't any orders for \" + demand_id)"
   ]
  },
  {
   "cell_type": "code",
   "execution_count": 44,
   "metadata": {},
   "outputs": [],
   "source": [
    "# Pós-processamento\n",
    "newNames = {\"county_name\": \"Município / Autarquia\", \"description\": \"Produto\", \"quantity\": \"Quantidade\"}\n",
    "df = df_exploded.rename(columns=newNames)"
   ]
  },
  {
   "cell_type": "code",
   "execution_count": 45,
   "metadata": {},
   "outputs": [
    {
     "data": {
      "text/html": [
       "<div>\n",
       "<style scoped>\n",
       "    .dataframe tbody tr th:only-of-type {\n",
       "        vertical-align: middle;\n",
       "    }\n",
       "\n",
       "    .dataframe tbody tr th {\n",
       "        vertical-align: top;\n",
       "    }\n",
       "\n",
       "    .dataframe thead th {\n",
       "        text-align: right;\n",
       "    }\n",
       "</style>\n",
       "<table border=\"1\" class=\"dataframe\">\n",
       "  <thead>\n",
       "    <tr style=\"text-align: right;\">\n",
       "      <th></th>\n",
       "      <th>cart_id</th>\n",
       "      <th>state</th>\n",
       "      <th>products</th>\n",
       "      <th>user_id</th>\n",
       "      <th>updated_on</th>\n",
       "      <th>product_ids</th>\n",
       "      <th>demand_name</th>\n",
       "      <th>demand_id</th>\n",
       "      <th>user_name</th>\n",
       "      <th>county_id</th>\n",
       "      <th>Município / Autarquia</th>\n",
       "      <th>product_id</th>\n",
       "      <th>Quantidade</th>\n",
       "      <th>Produto</th>\n",
       "    </tr>\n",
       "  </thead>\n",
       "  <tbody>\n",
       "    <tr>\n",
       "      <th>0</th>\n",
       "      <td>66302f1c763d3d7a42c1649f</td>\n",
       "      <td>closed</td>\n",
       "      <td>{'_id': '66302d85763d3d7a42c1643b', 'name': 'P...</td>\n",
       "      <td>66302987763d3d7a42c163cd</td>\n",
       "      <td>2024-04-29 23:37:00.876</td>\n",
       "      <td>[{'product_id': '66302d85763d3d7a42c1643b', 'q...</td>\n",
       "      <td>Demanda teste</td>\n",
       "      <td>66302e7e763d3d7a42c1645b</td>\n",
       "      <td>Daniela Gomes</td>\n",
       "      <td>66302987763d3d7a42c163ca</td>\n",
       "      <td>Conselheiro Lafaiete</td>\n",
       "      <td>66302d85763d3d7a42c1643b</td>\n",
       "      <td>5</td>\n",
       "      <td>Produto Teste Altura 5 dm Largura 3 cm NBR5 PBR3</td>\n",
       "    </tr>\n",
       "  </tbody>\n",
       "</table>\n",
       "</div>"
      ],
      "text/plain": [
       "                    cart_id   state  \\\n",
       "0  66302f1c763d3d7a42c1649f  closed   \n",
       "\n",
       "                                            products  \\\n",
       "0  {'_id': '66302d85763d3d7a42c1643b', 'name': 'P...   \n",
       "\n",
       "                    user_id              updated_on  \\\n",
       "0  66302987763d3d7a42c163cd 2024-04-29 23:37:00.876   \n",
       "\n",
       "                                         product_ids    demand_name  \\\n",
       "0  [{'product_id': '66302d85763d3d7a42c1643b', 'q...  Demanda teste   \n",
       "\n",
       "                  demand_id      user_name                 county_id  \\\n",
       "0  66302e7e763d3d7a42c1645b  Daniela Gomes  66302987763d3d7a42c163ca   \n",
       "\n",
       "  Município / Autarquia                product_id  Quantidade  \\\n",
       "0  Conselheiro Lafaiete  66302d85763d3d7a42c1643b           5   \n",
       "\n",
       "                                            Produto  \n",
       "0  Produto Teste Altura 5 dm Largura 3 cm NBR5 PBR3  "
      ]
     },
     "execution_count": 45,
     "metadata": {},
     "output_type": "execute_result"
    }
   ],
   "source": [
    "df"
   ]
  },
  {
   "cell_type": "code",
   "execution_count": 46,
   "metadata": {},
   "outputs": [
    {
     "name": "stderr",
     "output_type": "stream",
     "text": [
      "2024-06-27 10:33:08 INFO Request URL: 'https://catalogv2.blob.core.windows.net/cisab-consolidados/2024-06-27%2010-33-08%20Demanda%20teste.xlsx'\n",
      "Request method: 'PUT'\n",
      "Request headers:\n",
      "    'Content-Length': '4980'\n",
      "    'x-ms-blob-type': 'REDACTED'\n",
      "    'If-None-Match': '*'\n",
      "    'x-ms-version': 'REDACTED'\n",
      "    'Content-Type': 'application/octet-stream'\n",
      "    'Accept': 'application/xml'\n",
      "    'User-Agent': 'azsdk-python-storage-blob/12.14.1 Python/3.10.5 (Windows-10-10.0.19045-SP0)'\n",
      "    'x-ms-date': 'REDACTED'\n",
      "    'x-ms-client-request-id': 'cad5c3a4-3489-11ef-9175-3052cb8340ee'\n",
      "    'Authorization': 'REDACTED'\n",
      "A body is sent with the request\n",
      "2024-06-27 10:33:09 INFO Response status: 201\n",
      "Response headers:\n",
      "    'Content-Length': '0'\n",
      "    'Content-MD5': 'REDACTED'\n",
      "    'Last-Modified': 'Thu, 27 Jun 2024 13:33:09 GMT'\n",
      "    'ETag': '\"0x8DC96ADAF8FB778\"'\n",
      "    'Server': 'Windows-Azure-Blob/1.0 Microsoft-HTTPAPI/2.0'\n",
      "    'x-ms-request-id': '894d664e-501e-003a-6596-c841d2000000'\n",
      "    'x-ms-client-request-id': 'cad5c3a4-3489-11ef-9175-3052cb8340ee'\n",
      "    'x-ms-version': 'REDACTED'\n",
      "    'x-ms-content-crc64': 'REDACTED'\n",
      "    'x-ms-request-server-encrypted': 'REDACTED'\n",
      "    'Date': 'Thu, 27 Jun 2024 13:33:09 GMT'\n",
      "2024-06-27 10:33:09 INFO Request URL: 'https://catalogv2.blob.core.windows.net/cisab-consolidados/2024-06-27%2010-33-08%20Demanda%20teste.pdf'\n",
      "Request method: 'PUT'\n",
      "Request headers:\n",
      "    'Content-Length': '1974'\n",
      "    'x-ms-blob-type': 'REDACTED'\n",
      "    'If-None-Match': '*'\n",
      "    'x-ms-version': 'REDACTED'\n",
      "    'Content-Type': 'application/octet-stream'\n",
      "    'Accept': 'application/xml'\n",
      "    'User-Agent': 'azsdk-python-storage-blob/12.14.1 Python/3.10.5 (Windows-10-10.0.19045-SP0)'\n",
      "    'x-ms-date': 'REDACTED'\n",
      "    'x-ms-client-request-id': 'caef1623-3489-11ef-af6f-3052cb8340ee'\n",
      "    'Authorization': 'REDACTED'\n",
      "A body is sent with the request\n",
      "2024-06-27 10:33:09 INFO Response status: 201\n",
      "Response headers:\n",
      "    'Content-Length': '0'\n",
      "    'Content-MD5': 'REDACTED'\n",
      "    'Last-Modified': 'Thu, 27 Jun 2024 13:33:10 GMT'\n",
      "    'ETag': '\"0x8DC96ADAFA38ABA\"'\n",
      "    'Server': 'Windows-Azure-Blob/1.0 Microsoft-HTTPAPI/2.0'\n",
      "    'x-ms-request-id': '79571992-601e-0098-4896-c87bcb000000'\n",
      "    'x-ms-client-request-id': 'caef1623-3489-11ef-af6f-3052cb8340ee'\n",
      "    'x-ms-version': 'REDACTED'\n",
      "    'x-ms-content-crc64': 'REDACTED'\n",
      "    'x-ms-request-server-encrypted': 'REDACTED'\n",
      "    'Date': 'Thu, 27 Jun 2024 13:33:09 GMT'\n",
      "2024-06-27 10:33:09 INFO Pika version 1.3.1 connecting to ('192.168.3.110', 5672)\n",
      "2024-06-27 10:33:19 ERROR AMQPConnector - reporting failure: AMQPConnectorSocketConnectError: TimeoutError(\"TCP connection attempt timed out: 'host.docker.internal'/(<AddressFamily.AF_INET: 2>, <SocketKind.SOCK_STREAM: 1>, 6, '', ('192.168.3.110', 5672))\")\n",
      "2024-06-27 10:33:19 ERROR AMQP connection workflow failed: AMQPConnectionWorkflowFailed: 1 exceptions in all; last exception - AMQPConnectorSocketConnectError: TimeoutError(\"TCP connection attempt timed out: 'host.docker.internal'/(<AddressFamily.AF_INET: 2>, <SocketKind.SOCK_STREAM: 1>, 6, '', ('192.168.3.110', 5672))\"); first exception - None.\n",
      "2024-06-27 10:33:19 ERROR AMQPConnectionWorkflow - reporting failure: AMQPConnectionWorkflowFailed: 1 exceptions in all; last exception - AMQPConnectorSocketConnectError: TimeoutError(\"TCP connection attempt timed out: 'host.docker.internal'/(<AddressFamily.AF_INET: 2>, <SocketKind.SOCK_STREAM: 1>, 6, '', ('192.168.3.110', 5672))\"); first exception - None\n",
      "2024-06-27 10:33:19 ERROR Connection workflow failed: AMQPConnectionWorkflowFailed: 1 exceptions in all; last exception - AMQPConnectorSocketConnectError: TimeoutError(\"TCP connection attempt timed out: 'host.docker.internal'/(<AddressFamily.AF_INET: 2>, <SocketKind.SOCK_STREAM: 1>, 6, '', ('192.168.3.110', 5672))\"); first exception - None\n",
      "2024-06-27 10:33:19 ERROR Error in _create_connection().\n",
      "Traceback (most recent call last):\n",
      "  File \"c:\\Python310\\lib\\site-packages\\pika\\adapters\\blocking_connection.py\", line 451, in _create_connection\n",
      "    raise self._reap_last_connection_workflow_error(error)\n",
      "pika.exceptions.AMQPConnectionError\n",
      "2024-06-27 10:33:19 ERROR Unable to connect with RabbitMQ.\n"
     ]
    }
   ],
   "source": [
    "# Executando processos finais para cada demanda fechada no dia\n",
    "for demand in closed_demands:\n",
    "    generateFiles(df, demand)"
   ]
  },
  {
   "cell_type": "code",
   "execution_count": null,
   "metadata": {},
   "outputs": [],
   "source": []
  }
 ],
 "metadata": {
  "kernelspec": {
   "display_name": "Python 3",
   "language": "python",
   "name": "python3"
  },
  "language_info": {
   "codemirror_mode": {
    "name": "ipython",
    "version": 3
   },
   "file_extension": ".py",
   "mimetype": "text/x-python",
   "name": "python",
   "nbconvert_exporter": "python",
   "pygments_lexer": "ipython3",
   "version": "3.10.5"
  },
  "orig_nbformat": 4,
  "vscode": {
   "interpreter": {
    "hash": "369f2c481f4da34e4445cda3fffd2e751bd1c4d706f27375911949ba6bb62e1c"
   }
  }
 },
 "nbformat": 4,
 "nbformat_minor": 2
}
