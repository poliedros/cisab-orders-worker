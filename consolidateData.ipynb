{
 "cells": [
  {
   "cell_type": "code",
   "execution_count": 16,
   "metadata": {},
   "outputs": [],
   "source": [
    "import os\n",
    "import pymongo\n",
    "import pandas as pd\n",
    "from datetime import datetime"
   ]
  },
  {
   "cell_type": "code",
   "execution_count": 17,
   "metadata": {},
   "outputs": [],
   "source": [
    "conn_str = os.getenv(\"MONGO_CONN_STR\")\n",
    "client = pymongo.MongoClient(conn_str, serverSelectionTimeoutMS=5000)\n",
    "\n",
    "try:\n",
    "    client.server_info()\n",
    "except Exception:\n",
    "    print(\"Unable to connect to the server.\")\n",
    "\n",
    "database = client.get_database()"
   ]
  },
  {
   "cell_type": "code",
   "execution_count": 18,
   "metadata": {},
   "outputs": [],
   "source": [
    "cart_collection = database.get_collection(\"carts\")\n",
    "demand_collection = database.get_collection(\"demands\")\n",
    "product_collection = database.get_collection(\"products\")\n",
    "county_collection = database.get_collection(\"counties\")\n"
   ]
  },
  {
   "cell_type": "code",
   "execution_count": 19,
   "metadata": {},
   "outputs": [],
   "source": [
    "today = datetime.today()\n",
    "tomorrow = today.replace(day=today.day + 1, hour=0, minute=0, second=0, microsecond=0)\n",
    "today = today.replace(hour=0, minute=0, second=0, microsecond=0)\n",
    "\n",
    "demands = demand_collection.find({\n",
    "  \"end_date\": { \"$gte\": today, \"$lt\": tomorrow }\n",
    "})\n",
    "\n",
    "closed_demands = [str(demand[\"_id\"]) for demand in demands]"
   ]
  },
  {
   "cell_type": "code",
   "execution_count": 20,
   "metadata": {},
   "outputs": [],
   "source": [
    "carts = cart_collection.find({\n",
    "    \"state\" : { \"$eq\" : \"closed\"},\n",
    "    \"demand_id\": { \"$in\": closed_demands}\n",
    "  })\n",
    "\n",
    "products = product_collection.find()\n",
    "counties = county_collection.find()"
   ]
  },
  {
   "cell_type": "code",
   "execution_count": 21,
   "metadata": {},
   "outputs": [],
   "source": [
    "df_carts = pd.DataFrame(carts)\n",
    "df_products = pd.DataFrame(products)\n",
    "df_counties = pd.DataFrame(counties)"
   ]
  },
  {
   "cell_type": "code",
   "execution_count": 22,
   "metadata": {},
   "outputs": [],
   "source": [
    "df_carts = df_carts.rename(columns={'_id': 'cart_id'})\n",
    "df_products = df_products.rename(columns={'_id': 'product_id'})"
   ]
  },
  {
   "cell_type": "code",
   "execution_count": 23,
   "metadata": {},
   "outputs": [],
   "source": [
    "df_carts.county_id = df_carts.county_id.astype(str)\n",
    "df_counties._id = df_counties._id.astype(str)\n",
    "\n",
    "df_carts_with_counties = df_carts.merge(df_counties[[\"_id\", \"name\"]], left_on=\"county_id\", right_on=\"_id\")[[\"name\", \"products\"]]"
   ]
  },
  {
   "cell_type": "code",
   "execution_count": 24,
   "metadata": {},
   "outputs": [],
   "source": [
    "df_exploded = df_carts_with_counties.explode(column=\"products\")"
   ]
  },
  {
   "cell_type": "code",
   "execution_count": 25,
   "metadata": {},
   "outputs": [],
   "source": [
    "def getAtrr(row, atrribute):\n",
    "  rowDict = dict(row)\n",
    "  return rowDict[atrribute]\n",
    "\n",
    "df_exploded[\"_id\"] = df_exploded[\"products\"].apply(lambda x: getAtrr(x, \"_id\"))\n",
    "df_exploded[\"quantity\"] = df_exploded[\"products\"].apply(lambda x: getAtrr(x, \"quantity\"))"
   ]
  },
  {
   "cell_type": "code",
   "execution_count": 26,
   "metadata": {},
   "outputs": [],
   "source": [
    "df_exploded.drop(columns=[\"products\"], inplace=True)"
   ]
  },
  {
   "cell_type": "code",
   "execution_count": 27,
   "metadata": {},
   "outputs": [],
   "source": [
    "def getProductDesc(row):\n",
    "  measurementsList = list(row[\"measurements\"])\n",
    "  newList = []\n",
    "  for m in measurementsList:\n",
    "    newList.append(\" \".join(list(m.values())))\n",
    "\n",
    "  normsList = list(row[\"norms\"])\n",
    "  \n",
    "  return row[\"name\"] + \" \" + \" \".join(newList) + \" \" + \" \".join(normsList)\n",
    "  \n",
    "df_products[\"description\"] = df_products.apply(lambda x: getProductDesc(x), axis=1)"
   ]
  },
  {
   "cell_type": "code",
   "execution_count": 28,
   "metadata": {},
   "outputs": [],
   "source": [
    "newNames = {\"name\": \"Município / Autarquia\", \"description\": \"Produto\", \"quantity\": \"Quantidade\"}\n",
    "\n",
    "df_products.product_id = df_products.product_id.astype(str)\n",
    "df_exploded._id = df_exploded._id.astype(str)\n",
    "\n",
    "df = df_exploded.merge(df_products[[\"product_id\", \"description\"]], left_on=\"_id\", right_on=\"product_id\").drop(columns=\"_id\").rename(columns=newNames)"
   ]
  },
  {
   "cell_type": "code",
   "execution_count": 29,
   "metadata": {},
   "outputs": [],
   "source": [
    "df_pivot = df.pivot_table(index=\"Produto\", values=\"Quantidade\", columns=\"Município / Autarquia\")\n",
    "df_pivot[\"Total\"] = df_pivot.sum(axis=1)"
   ]
  },
  {
   "cell_type": "code",
   "execution_count": 30,
   "metadata": {},
   "outputs": [],
   "source": [
    "df_pivot.to_excel(\"Consolidado de Produtos.xlsx\")"
   ]
  },
  {
   "cell_type": "code",
   "execution_count": 8,
   "metadata": {},
   "outputs": [
    {
     "data": {
      "text/plain": [
       "'2023-02-04_15-30-45'"
      ]
     },
     "execution_count": 8,
     "metadata": {},
     "output_type": "execute_result"
    }
   ],
   "source": [
    "from datetime import datetime\n",
    "format_data = \"%Y-%m-%d_%H-%M-%S\"\n",
    "datetime.strftime(datetime.today(), format_data)"
   ]
  },
  {
   "cell_type": "code",
   "execution_count": null,
   "metadata": {},
   "outputs": [],
   "source": []
  }
 ],
 "metadata": {
  "kernelspec": {
   "display_name": "Python 3",
   "language": "python",
   "name": "python3"
  },
  "language_info": {
   "codemirror_mode": {
    "name": "ipython",
    "version": 3
   },
   "file_extension": ".py",
   "mimetype": "text/x-python",
   "name": "python",
   "nbconvert_exporter": "python",
   "pygments_lexer": "ipython3",
   "version": "3.10.5"
  },
  "orig_nbformat": 4,
  "vscode": {
   "interpreter": {
    "hash": "369f2c481f4da34e4445cda3fffd2e751bd1c4d706f27375911949ba6bb62e1c"
   }
  }
 },
 "nbformat": 4,
 "nbformat_minor": 2
}
